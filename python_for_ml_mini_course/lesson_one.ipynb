{
 "cells": [
  {
   "cell_type": "markdown",
   "metadata": {},
   "source": [
    "# Lesson 1: Manipulating Lists "
   ]
  },
  {
   "cell_type": "code",
   "execution_count": 1,
   "metadata": {},
   "outputs": [],
   "source": [
    "x = [1,2,3]\n",
    "x.append(\"that's all\")"
   ]
  },
  {
   "cell_type": "code",
   "execution_count": 2,
   "metadata": {},
   "outputs": [
    {
     "name": "stdout",
     "output_type": "stream",
     "text": [
      "1\n"
     ]
    }
   ],
   "source": [
    "print(x[0])"
   ]
  },
  {
   "cell_type": "code",
   "execution_count": 3,
   "metadata": {},
   "outputs": [
    {
     "name": "stdout",
     "output_type": "stream",
     "text": [
      "that's all\n"
     ]
    }
   ],
   "source": [
    "#You can count backwards, so this is first element from last position\n",
    "print(x[-1]) "
   ]
  },
  {
   "cell_type": "code",
   "execution_count": 4,
   "metadata": {},
   "outputs": [
    {
     "name": "stdout",
     "output_type": "stream",
     "text": [
      "[3, \"that's all\"]\n"
     ]
    }
   ],
   "source": [
    "#Slice of a list going backwars \n",
    "print(x[-2:])"
   ]
  },
  {
   "cell_type": "code",
   "execution_count": 5,
   "metadata": {},
   "outputs": [
    {
     "name": "stdout",
     "output_type": "stream",
     "text": [
      "[1, 4, 7, 10]\n"
     ]
    }
   ],
   "source": [
    "x = [1,2,3,4,5,6,7,8,9,10]\n",
    "odd = x[::2]\n",
    "temp = x[::3]\n",
    "#print(odd)\n",
    "print(temp)"
   ]
  },
  {
   "cell_type": "code",
   "execution_count": 33,
   "metadata": {},
   "outputs": [
    {
     "name": "stdout",
     "output_type": "stream",
     "text": [
      "[10, 9, 8, 7, 6, 5, 4, 3, 2, 1]\n",
      "[9, 7, 5, 3, 1]\n",
      "[7, 5, 3]\n"
     ]
    }
   ],
   "source": [
    "y = x[::-1]\n",
    "print(y)\n",
    "\n",
    "#How can you use the slicing syntax to print 9,7,4,3,1?\n",
    "z = y[1:10]\n",
    "zz = z[::2]\n",
    "print(zz)\n",
    "\n",
    "yy = zz[1:4]\n",
    "print(yy)"
   ]
  }
 ],
 "metadata": {
  "interpreter": {
   "hash": "fb39a95dd0e109825e7518d18b058fb86e113177a95d4786a05514b64c2c11f8"
  },
  "kernelspec": {
   "display_name": "Python 3.9.7 ('base')",
   "language": "python",
   "name": "python3"
  },
  "language_info": {
   "codemirror_mode": {
    "name": "ipython",
    "version": 3
   },
   "file_extension": ".py",
   "mimetype": "text/x-python",
   "name": "python",
   "nbconvert_exporter": "python",
   "pygments_lexer": "ipython3",
   "version": "3.9.7"
  },
  "orig_nbformat": 4
 },
 "nbformat": 4,
 "nbformat_minor": 2
}
