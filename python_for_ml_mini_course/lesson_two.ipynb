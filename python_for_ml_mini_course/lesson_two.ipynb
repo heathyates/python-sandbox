{
 "cells": [
  {
   "cell_type": "code",
   "execution_count": 1,
   "metadata": {},
   "outputs": [],
   "source": [
    "## Lesson 2 - Dictionaries "
   ]
  },
  {
   "cell_type": "code",
   "execution_count": 2,
   "metadata": {},
   "outputs": [
    {
     "name": "stdout",
     "output_type": "stream",
     "text": [
      "Apple cost $ 1.5\n"
     ]
    }
   ],
   "source": [
    "price = {\n",
    "    \"apple\": 1.5, \n",
    "    \"orange\": 1.25, \n",
    "    \"banana\": 0.5\n",
    "}\n",
    "\n",
    "print(\"Apple cost $\", price[\"apple\"])"
   ]
  },
  {
   "cell_type": "code",
   "execution_count": 5,
   "metadata": {},
   "outputs": [
    {
     "name": "stdout",
     "output_type": "stream",
     "text": [
      "Lemon costs $ 0.6\n"
     ]
    }
   ],
   "source": [
    "price[\"lemon\"] = 0.6\n",
    "print(\"Lemon costs $\", price[\"lemon\"]) "
   ]
  },
  {
   "cell_type": "code",
   "execution_count": 6,
   "metadata": {},
   "outputs": [
    {
     "name": "stdout",
     "output_type": "stream",
     "text": [
      "strawberry costs $1\n"
     ]
    }
   ],
   "source": [
    "if \"strawberry\" in price: \n",
    "    print(\"strawberry cost $\", price[\"strawberry\"])\n",
    "else: \n",
    "    print(\"strawberry costs $1\")"
   ]
  },
  {
   "cell_type": "code",
   "execution_count": 8,
   "metadata": {},
   "outputs": [
    {
     "name": "stdout",
     "output_type": "stream",
     "text": [
      "Strawberry costs $ 3\n"
     ]
    }
   ],
   "source": [
    "print(\"Strawberry costs $\", price.get(\"strawberry\", 3))\n",
    "#If nothing found, defaults to 3 "
   ]
  },
  {
   "cell_type": "code",
   "execution_count": 10,
   "metadata": {},
   "outputs": [
    {
     "name": "stdout",
     "output_type": "stream",
     "text": [
      "Strawberry costs $ None\n"
     ]
    }
   ],
   "source": [
    "print(\"Strawberry costs $\", price.get(\"strawberry\"))"
   ]
  },
  {
   "cell_type": "code",
   "execution_count": 11,
   "metadata": {},
   "outputs": [
    {
     "name": "stdout",
     "output_type": "stream",
     "text": [
      "['apple', 'orange', 'banana', 'lemon']\n",
      "[1.5, 1.25, 0.5, 0.6]\n"
     ]
    }
   ],
   "source": [
    "fruits = list(price.keys())\n",
    "numbers = list(price.values())\n",
    "\n",
    "print(fruits)\n",
    "print(numbers)"
   ]
  },
  {
   "cell_type": "code",
   "execution_count": 12,
   "metadata": {},
   "outputs": [
    {
     "name": "stdout",
     "output_type": "stream",
     "text": [
      "[('apple', 1.5), ('orange', 1.25), ('banana', 0.5), ('lemon', 0.6)]\n"
     ]
    }
   ],
   "source": [
    "pairs = list(price.items())\n",
    "print(pairs)"
   ]
  },
  {
   "cell_type": "code",
   "execution_count": 13,
   "metadata": {},
   "outputs": [
    {
     "name": "stdout",
     "output_type": "stream",
     "text": [
      "{'apple': 1.5, 'orange': 1.25, 'strawberry': 1.0, 'banana': 0.5}\n"
     ]
    }
   ],
   "source": [
    "price1 = {\n",
    "    \"apple\": 1.5, \n",
    "    \"orange\": 1.25, \n",
    "    \"strawberry\": 1.0\n",
    "}\n",
    "\n",
    "price2 = {\"banana\": 0.5}\n",
    "\n",
    "pairs1 = list(price1.items())\n",
    "pairs2 = list(price2.items())\n",
    "price = dict(pairs1 + pairs2)\n",
    "print(price)"
   ]
  },
  {
   "cell_type": "code",
   "execution_count": 15,
   "metadata": {},
   "outputs": [
    {
     "name": "stdout",
     "output_type": "stream",
     "text": [
      "{'apple': 1.5, 'orange': 1.25, 'strawberry': 1.0, 'banana': 0.5}\n",
      "{'apple': 1.5, 'orange': 1.25, 'strawberry': 1.0, 'banana': 0.5}\n"
     ]
    }
   ],
   "source": [
    "price3 = price1 | price2\n",
    "price4 = {**price1, **price2}\n",
    "\n",
    "print(price3)\n",
    "print(price4)"
   ]
  }
 ],
 "metadata": {
  "interpreter": {
   "hash": "fb39a95dd0e109825e7518d18b058fb86e113177a95d4786a05514b64c2c11f8"
  },
  "kernelspec": {
   "display_name": "Python 3.9.7 ('base')",
   "language": "python",
   "name": "python3"
  },
  "language_info": {
   "codemirror_mode": {
    "name": "ipython",
    "version": 3
   },
   "file_extension": ".py",
   "mimetype": "text/x-python",
   "name": "python",
   "nbconvert_exporter": "python",
   "pygments_lexer": "ipython3",
   "version": "3.9.7"
  },
  "orig_nbformat": 4
 },
 "nbformat": 4,
 "nbformat_minor": 2
}
